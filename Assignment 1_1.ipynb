{
  "nbformat": 4,
  "nbformat_minor": 0,
  "metadata": {
    "colab": {
      "provenance": [],
      "authorship_tag": "ABX9TyNPyiPWlJ1o00GjqiUeTjs1",
      "include_colab_link": true
    },
    "kernelspec": {
      "name": "python3",
      "display_name": "Python 3"
    },
    "language_info": {
      "name": "python"
    }
  },
  "cells": [
    {
      "cell_type": "markdown",
      "metadata": {
        "id": "view-in-github",
        "colab_type": "text"
      },
      "source": [
        "<a href=\"https://colab.research.google.com/github/Harshita15887/GEN_AI-2025/blob/main/Assignment%201_1.ipynb\" target=\"_parent\"><img src=\"https://colab.research.google.com/assets/colab-badge.svg\" alt=\"Open In Colab\"/></a>"
      ]
    },
    {
      "cell_type": "code",
      "execution_count": 1,
      "metadata": {
        "id": "b5z9AkntL-Ym"
      },
      "outputs": [],
      "source": [
        "import numpy as np"
      ]
    },
    {
      "cell_type": "code",
      "source": [
        "y_actual=np.array([20,30,40,50,60])\n",
        "y_pred=np.array([20.5,30.3,40.2,50.6,60.7])"
      ],
      "metadata": {
        "id": "_rxe1wKTMDft"
      },
      "execution_count": 4,
      "outputs": []
    },
    {
      "cell_type": "code",
      "source": [
        "mse=np.mean((y_actual-y_pred)**2)\n",
        "mse"
      ],
      "metadata": {
        "colab": {
          "base_uri": "https://localhost:8080/"
        },
        "id": "UEcGcxR6MdZH",
        "outputId": "0ed3a55b-34b4-48d0-d105-2c71364999fe"
      },
      "execution_count": 10,
      "outputs": [
        {
          "output_type": "execute_result",
          "data": {
            "text/plain": [
              "0.24600000000000147"
            ]
          },
          "metadata": {},
          "execution_count": 10
        }
      ]
    },
    {
      "cell_type": "code",
      "source": [
        "rms=np.sqrt(mse)\n",
        "rms"
      ],
      "metadata": {
        "colab": {
          "base_uri": "https://localhost:8080/"
        },
        "id": "c3Y0jVcPMyBU",
        "outputId": "665a5211-650f-4fe3-fe27-46cc136a076e"
      },
      "execution_count": 8,
      "outputs": [
        {
          "output_type": "execute_result",
          "data": {
            "text/plain": [
              "0.49598387070549127"
            ]
          },
          "metadata": {},
          "execution_count": 8
        }
      ]
    },
    {
      "cell_type": "code",
      "source": [
        "mab=np.mean(np.abs(y_actual-y_pred))\n",
        "mab"
      ],
      "metadata": {
        "colab": {
          "base_uri": "https://localhost:8080/"
        },
        "id": "wXXl-0m5M2t8",
        "outputId": "6f405cab-d19b-4d7b-e133-50d834f12036"
      },
      "execution_count": 9,
      "outputs": [
        {
          "output_type": "execute_result",
          "data": {
            "text/plain": [
              "0.4600000000000016"
            ]
          },
          "metadata": {},
          "execution_count": 9
        }
      ]
    },
    {
      "cell_type": "code",
      "source": [
        "from sklearn.metrics import mean_absolute_error, mean_squared_error, root_mean_squared_error"
      ],
      "metadata": {
        "id": "R5EkKR5NNA9S"
      },
      "execution_count": 12,
      "outputs": []
    },
    {
      "cell_type": "code",
      "source": [
        "m_square=mean_squared_error(y_actual,y_pred)\n",
        "m_square"
      ],
      "metadata": {
        "colab": {
          "base_uri": "https://localhost:8080/"
        },
        "id": "vO0aiDT_Ne6u",
        "outputId": "81b37008-bf7c-47b2-f65e-de40109ebd38"
      },
      "execution_count": 13,
      "outputs": [
        {
          "output_type": "execute_result",
          "data": {
            "text/plain": [
              "0.24600000000000147"
            ]
          },
          "metadata": {},
          "execution_count": 13
        }
      ]
    },
    {
      "cell_type": "code",
      "source": [
        "root_mean=root_mean_squared_error(y_actual,y_pred)\n",
        "root_mean"
      ],
      "metadata": {
        "colab": {
          "base_uri": "https://localhost:8080/"
        },
        "id": "VoOqEFWlOjMs",
        "outputId": "1ce0fc94-62b9-4c17-92bc-4087085f6671"
      },
      "execution_count": 14,
      "outputs": [
        {
          "output_type": "execute_result",
          "data": {
            "text/plain": [
              "0.49598387070549127"
            ]
          },
          "metadata": {},
          "execution_count": 14
        }
      ]
    },
    {
      "cell_type": "code",
      "source": [
        "mean_abs=mean_absolute_error(y_actual,y_pred)\n",
        "mean_abs"
      ],
      "metadata": {
        "colab": {
          "base_uri": "https://localhost:8080/"
        },
        "id": "j1dn7wy6Olbw",
        "outputId": "65e82c76-70bc-4774-ce98-d5d72897e34c"
      },
      "execution_count": 15,
      "outputs": [
        {
          "output_type": "execute_result",
          "data": {
            "text/plain": [
              "0.4600000000000016"
            ]
          },
          "metadata": {},
          "execution_count": 15
        }
      ]
    },
    {
      "cell_type": "markdown",
      "source": [
        "2nd question\n"
      ],
      "metadata": {
        "id": "ZzOpahlQPXxY"
      }
    },
    {
      "cell_type": "code",
      "source": [],
      "metadata": {
        "id": "KK3qHdi9OncA"
      },
      "execution_count": null,
      "outputs": []
    }
  ]
}